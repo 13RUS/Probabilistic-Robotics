{
 "cells": [
  {
   "cell_type": "markdown",
   "metadata": {
    "collapsed": true
   },
   "source": [
    "## Vector Coding Solutions"
   ]
  },
  {
   "cell_type": "code",
   "execution_count": null,
   "metadata": {},
   "outputs": [],
   "source": [
    "def add(vector_1, vector_2):\n",
    "    if len(vector_1) != len(vector_2):\n",
    "        print(\"error! vectors must be same size to add\")\n",
    "        return \n",
    "    \n",
    "    new_vector = []\n",
    "    for i in range(len(vector_1)):\n",
    "        value_1 = vector_1[i]\n",
    "        value_2 = vector_2[i]\n",
    "        new_val = value_1 + value_2\n",
    "        new_vector.append(new_val)\n",
    "    \n",
    "    return new_vector\n"
   ]
  },
  {
   "cell_type": "code",
   "execution_count": null,
   "metadata": {},
   "outputs": [],
   "source": [
    "v1 = [1,2]\n",
    "v2 = [3,4]\n",
    "\n",
    "v_1_plus_2 = add(v1, v2)\n",
    "\n",
    "print(v1, \"plus\", v2, \"equals\", v_1_plus_2)"
   ]
  },
  {
   "cell_type": "code",
   "execution_count": null,
   "metadata": {},
   "outputs": [],
   "source": [
    "def multiply(scalar, vector):\n",
    "    new_vector = []\n",
    "    for value in vector:\n",
    "        new_value = scalar * value\n",
    "        new_vector.append(new_value)\n",
    "    return new_vector"
   ]
  },
  {
   "cell_type": "code",
   "execution_count": null,
   "metadata": {},
   "outputs": [],
   "source": [
    "vector = [1,2,3,4,5]\n",
    "number = 3\n",
    "\n",
    "product = multiply(number, vector)\n",
    "\n",
    "print(number, \"times\", vector, \"equals\", product)"
   ]
  },
  {
   "cell_type": "code",
   "execution_count": 6,
   "metadata": {},
   "outputs": [],
   "source": [
    "# Has two vectors as inputs and outputs the dot product of the \n",
    "# two vectors. First, it does element-wise\n",
    "# multiplication and then sum the results.\n",
    "\n",
    "def dot_product(vector_one, vector_two):\n",
    "    if len(vector_one) != len(vector_two):\n",
    "        print(\"error! Vectors must have same length\")\n",
    "    \n",
    "    result = 0\n",
    "    for i in range(len(vector_one)):\n",
    "        result += vector_one[i] * vector_two[i]\n",
    "    \n",
    "    return result"
   ]
  },
  {
   "cell_type": "code",
   "execution_count": null,
   "metadata": {},
   "outputs": [],
   "source": [
    "vector_1 = [7,2,3]\n",
    "vector_2 = [1, 10, 4]\n",
    "\n",
    "# should be 39 (7*1 + 2*10 + 3*4)\n",
    "v1_dot_v2 = dot_product(vector_1, vector_2)\n",
    "\n",
    "\n",
    "print(vector_1, \"dot\", vector_2, \"equals\", v1_dot_v2)\n",
    "    "
   ]
  },
  {
   "cell_type": "markdown",
   "metadata": {},
   "source": [
    "In mathematical notation, the above code could be described as follows:\n",
    "\n",
    "> Given two vectors $\\mathbf{a} = [a_1, a_2, \\ldots, a_n]$ and $\\mathbf{b} = [b_1, b_2, \\ldots, b_n]$, the **dot product** is defined as follows:\n",
    ">\n",
    "> $$\\mathbf{a} \\cdot \\mathbf{b} = \\sum_{i=1}^{n}a_ib_i = a_1b_1 + a_2b_2 + \\ldots + a_nb_n$$"
   ]
  },
  {
   "cell_type": "markdown",
   "metadata": {},
   "source": [
    "## Matrix Coding Solutions"
   ]
  },
  {
   "cell_type": "code",
   "execution_count": null,
   "metadata": {},
   "outputs": [],
   "source": [
    "# scalar multiplication\n",
    "m = [\n",
    "    [8, 7, 1, 2, 3],\n",
    "    [1, 5, 2, 9, 0],\n",
    "    [8, 2, 2, 4, 1]\n",
    "]\n",
    "\n",
    "r = []\n",
    "for i in range(len(m)):\n",
    "    row = m[i]\n",
    "    new_row = [] # empty row for now\n",
    "    for j in range(len(row)):\n",
    "        m_ij = m[i][j]\n",
    "        r_ij = 5 * m_ij\n",
    "        new_row.append(r_ij)\n",
    "    r.append(new_row)\n",
    "r"
   ]
  },
  {
   "cell_type": "code",
   "execution_count": null,
   "metadata": {},
   "outputs": [],
   "source": [
    "def matrix_print(matrix):\n",
    "    for i in range(len(matrix)):\n",
    "        for j in range(len(matrix[0])):\n",
    "            m_ij = matrix[i][j]\n",
    "            print(m_ij, '\\t', end=\"\")\n",
    "        print('\\n') # prints a new line\n",
    "    return"
   ]
  },
  {
   "cell_type": "code",
   "execution_count": null,
   "metadata": {},
   "outputs": [],
   "source": [
    "m = [\n",
    "    [8, 7, 1, 2, 3],\n",
    "    [1, 5, 2, 9, 5],\n",
    "    [8, 2, 2, 4, 1]\n",
    "]\n",
    "\n",
    "matrix_print(m)"
   ]
  },
  {
   "cell_type": "code",
   "execution_count": 1,
   "metadata": {},
   "outputs": [],
   "source": [
    "def get_row(matrix, row):\n",
    "    return matrix[row]"
   ]
  },
  {
   "cell_type": "code",
   "execution_count": 4,
   "metadata": {},
   "outputs": [],
   "source": [
    "# Receives a matrix and a column number.\n",
    "# The output should be the column in the form of a list\n",
    "\n",
    "def get_column(matrix, column_number):\n",
    "    column = []\n",
    "    for i in range (len(matrix)):\n",
    "        column.append(matrix[i][column_number])\n",
    "    return column"
   ]
  },
  {
   "cell_type": "code",
   "execution_count": null,
   "metadata": {},
   "outputs": [],
   "source": [
    "def matrix_addition(matrixA, matrixB):\n",
    "  \n",
    "    # initialize matrix to hold the results\n",
    "    matrixSum = []\n",
    "    \n",
    "    # matrix to hold a row for appending sums of each element\n",
    "    row = []\n",
    "    \n",
    "    # For loop within a for loop to iterate over the matrices\n",
    "    for r in range(len(matrixA)):\n",
    "        row = [] # reset the list\n",
    "        for c in range(len(matrixA[0])):\n",
    "            row.append(matrixA[r][c] + matrixB[r][c]) # add the matrices\n",
    "        matrixSum.append(row)\n",
    "    \n",
    "    return matrixSum"
   ]
  },
  {
   "cell_type": "code",
   "execution_count": null,
   "metadata": {},
   "outputs": [],
   "source": [
    "A = [\n",
    "    [2,5,1], \n",
    "    [6,9,7.4], \n",
    "    [2,1,1], \n",
    "    [8,5,3], \n",
    "    [2,1,6], \n",
    "    [5,3,1]\n",
    "]\n",
    "\n",
    "B = [\n",
    "    [7, 19, 5.1], \n",
    "    [6.5,9.2,7.4], \n",
    "    [2.8,1.5,12], \n",
    "    [8,5,3], \n",
    "    [2,1,6], \n",
    "    [2,33,1]\n",
    "]\n",
    "\n",
    "matrix_addition(A, B)"
   ]
  },
  {
   "cell_type": "code",
   "execution_count": 16,
   "metadata": {},
   "outputs": [],
   "source": [
    "# Takes two matrices,multiplies them together and then returns\n",
    "# the results.\n",
    "def matrix_multiplication_slow(matrixA, matrixB):\n",
    "    \n",
    "    # Store the number of rows in A and the number of columns in B.\n",
    "    # This will be the size of the output matrix\n",
    "    m_rows = len(matrixA)\n",
    "    p_columns = len(matrixB[0])\n",
    "    \n",
    "    # empty list that will hold the product of AxB\n",
    "    result = []\n",
    "\n",
    "    \n",
    "    # For loop within a for loop. The outside for loop will \n",
    "    # iterate through m_rows. The inside for loop will iterate \n",
    "    # through p_columns.\n",
    "    for r in range(m_rows):\n",
    "        # Accumulate the values of a row (reset each loop)\n",
    "        row_result = []\n",
    "        # Grab current A row\n",
    "        rowA = get_row(matrixA, r)\n",
    "        \n",
    "        for c in range(p_columns):\n",
    "            # Grab current B column\n",
    "            colB = get_column(matrixB, c)\n",
    "            # Calculate the dot product of the A row and the B column\n",
    "            dot_prod = dot_product(rowA, colB)\n",
    "            # And append to row_result\n",
    "            row_result.append(dot_prod)\n",
    "    \n",
    "        # Add the row_result to the result matrix\n",
    "        result.append(row_result)\n",
    "    #print (result)\n",
    "    return result"
   ]
  },
  {
   "cell_type": "code",
   "execution_count": 17,
   "metadata": {},
   "outputs": [
    {
     "data": {
      "text/plain": [
       "[[25, 5], [10, 2]]"
      ]
     },
     "execution_count": 17,
     "metadata": {},
     "output_type": "execute_result"
    }
   ],
   "source": [
    "matrix_multiplication_slow([[5], [2]], [[5, 1]])"
   ]
  },
  {
   "cell_type": "code",
   "execution_count": 18,
   "metadata": {},
   "outputs": [
    {
     "data": {
      "text/plain": [
       "[[51, 17], [89, 42]]"
      ]
     },
     "execution_count": 18,
     "metadata": {},
     "output_type": "execute_result"
    }
   ],
   "source": [
    "matrix_multiplication([[5, 3, 1], \n",
    "                              [6, 2, 7]], \n",
    "                             [[4, 2], \n",
    "                              [8, 1], \n",
    "                              [7, 4]])"
   ]
  },
  {
   "cell_type": "code",
   "execution_count": 12,
   "metadata": {},
   "outputs": [],
   "source": [
    "# Takes in a matrix and outputs the transpose of the matrix\n",
    "def transpose(matrix):\n",
    "    matrix_transpose = []\n",
    "    # Loop through columns on outside loop\n",
    "    for c in range(len(matrix[0])):\n",
    "        new_row = []\n",
    "        # Loop through columns on inner loop\n",
    "        for r in range(len(matrix)):\n",
    "            # Column values will be filled by what were each row before\n",
    "            new_row.append(matrix[r][c])\n",
    "        matrix_transpose.append(new_row)\n",
    "    \n",
    "    return matrix_transpose"
   ]
  },
  {
   "cell_type": "code",
   "execution_count": 13,
   "metadata": {},
   "outputs": [
    {
     "data": {
      "text/plain": [
       "[[5, 2], [4, 1], [1, 3], [7, 5]]"
      ]
     },
     "execution_count": 13,
     "metadata": {},
     "output_type": "execute_result"
    }
   ],
   "source": [
    "transpose([[5, 4, 1, 7], [2, 1, 3, 5]])"
   ]
  },
  {
   "cell_type": "code",
   "execution_count": null,
   "metadata": {},
   "outputs": [],
   "source": [
    "# Takes in two matrices and outputs the product of the two matrices\n",
    "def matrix_multiplication(matrixA, matrixB):\n",
    "    product = []\n",
    "\n",
    "    # Take the transpose of matrixB and store the result\n",
    "    transposeB = transpose(matrixB)\n",
    "    \n",
    "    # Use a nested for loop to iterate through the rows\n",
    "    # of matrix A and the rows of the tranpose of matrix B\n",
    "    for r1 in range(len(matrixA)):\n",
    "        new_row = []\n",
    "        for r2 in range(len(transposeB)):\n",
    "            # Calculate the dot product between each row of matrix A\n",
    "            # with each row in the transpose of matrix B\n",
    "            dp = dot_product(matrixA[r1], transposeB[r2])\n",
    "            new_row.append(dp)\n",
    "        # Store the results in the product variable\n",
    "        product.append(new_row)\n",
    "\n",
    "    return product"
   ]
  },
  {
   "cell_type": "code",
   "execution_count": 14,
   "metadata": {},
   "outputs": [
    {
     "data": {
      "text/plain": [
       "[[51, 17], [89, 42]]"
      ]
     },
     "execution_count": 14,
     "metadata": {},
     "output_type": "execute_result"
    }
   ],
   "source": [
    "matrix_multiplication([[5, 3, 1], \n",
    "                              [6, 2, 7]], \n",
    "                             [[4, 2], \n",
    "                              [8, 1], \n",
    "                              [7, 4]])"
   ]
  },
  {
   "cell_type": "code",
   "execution_count": 19,
   "metadata": {},
   "outputs": [],
   "source": [
    "def identity_matrix(n):\n",
    "    identity = []\n",
    "    \n",
    "    for r in range(n):\n",
    "        new_row = []\n",
    "        for c in range(n):\n",
    "            if r == c: # Diagonals are only ones\n",
    "                new_row.append(1)\n",
    "            else: # Everything else is zero\n",
    "                new_row.append(0)\n",
    "        identity.append(new_row)\n",
    "    \n",
    "    return identity"
   ]
  },
  {
   "cell_type": "code",
   "execution_count": 21,
   "metadata": {},
   "outputs": [
    {
     "data": {
      "text/plain": [
       "[[1, 0, 0], [0, 1, 0], [0, 0, 1]]"
      ]
     },
     "execution_count": 21,
     "metadata": {},
     "output_type": "execute_result"
    }
   ],
   "source": [
    "identity_matrix(3)"
   ]
  },
  {
   "cell_type": "code",
   "execution_count": 23,
   "metadata": {},
   "outputs": [
    {
     "data": {
      "text/plain": [
       "[[5, 9, 2, 4], [3, 8, 5, 6], [1, 0, 0, 15]]"
      ]
     },
     "execution_count": 23,
     "metadata": {},
     "output_type": "execute_result"
    }
   ],
   "source": [
    "m = [[5, 9, 2, 4],\n",
    "     [3, 8, 5, 6],\n",
    "     [1, 0, 0, 15]]\n",
    "\n",
    "matrix_multiplication(m, identity_matrix(4))"
   ]
  },
  {
   "cell_type": "code",
   "execution_count": 24,
   "metadata": {},
   "outputs": [
    {
     "data": {
      "text/plain": [
       "[[5, 9, 2, 4], [3, 8, 5, 6], [1, 0, 0, 15]]"
      ]
     },
     "execution_count": 24,
     "metadata": {},
     "output_type": "execute_result"
    }
   ],
   "source": [
    "matrix_multiplication(identity_matrix(3), m)"
   ]
  },
  {
   "cell_type": "code",
   "execution_count": 25,
   "metadata": {},
   "outputs": [],
   "source": [
    "def inverse_matrix(matrix):\n",
    "    '''\n",
    "    Return the inverse of 1x1 or 2x2 matrices.\n",
    "    \n",
    "    Raises errors if the matrix is not square, is larger\n",
    "    than a 2x2 matrix, or if it cannot be inverted due to\n",
    "    what would be a division by zero.\n",
    "    '''\n",
    "    \n",
    "    inverse = []\n",
    "    \n",
    "    # Check if not square\n",
    "    if len(matrix) != len(matrix[0]):\n",
    "        raise ValueError('The matrix must be square')\n",
    "    \n",
    "    # Check if matrix is larger than 2x2.\n",
    "    if len(matrix) > 2:\n",
    "        raise NotImplementedError('this functionality is not implemented')\n",
    "    \n",
    "    # Check if matrix is 1x1 or 2x2.\n",
    "    # Depending on the matrix size, the formula for calculating\n",
    "    # the inverse is different. \n",
    "    if len(matrix) == 1:\n",
    "        inverse.append([1 / matrix[0][0]])\n",
    "    elif len(matrix) == 2:\n",
    "        # If the matrix is 2x2, check that the matrix is invertible\n",
    "        if matrix[0][0] * matrix[1][1] == matrix[0][1] * matrix[1][0]:\n",
    "            raise ValueError('The matrix is not invertible.')\n",
    "        else:\n",
    "            # Calculate the inverse of the square 1x1 or 2x2 matrix.\n",
    "            a = matrix[0][0]\n",
    "            b = matrix[0][1]\n",
    "            c = matrix[1][0]\n",
    "            d = matrix[1][1]\n",
    "            \n",
    "            factor = 1 / (a * d - b * c)\n",
    "            \n",
    "            inverse = [[d, -b],[-c, a]]\n",
    "            \n",
    "            for i in range(len(inverse)):\n",
    "                for j in range(len(inverse[0])):\n",
    "                    inverse[i][j] = factor * inverse[i][j]\n",
    "    \n",
    "    return inverse"
   ]
  },
  {
   "cell_type": "code",
   "execution_count": 27,
   "metadata": {},
   "outputs": [
    {
     "data": {
      "text/plain": [
       "[[0.01]]"
      ]
     },
     "execution_count": 27,
     "metadata": {},
     "output_type": "execute_result"
    }
   ],
   "source": [
    "inverse_matrix([[100]])"
   ]
  },
  {
   "cell_type": "code",
   "execution_count": 28,
   "metadata": {},
   "outputs": [
    {
     "data": {
      "text/plain": [
       "[[-0.03225806451612903, 0.16129032258064516],\n",
       " [0.22580645161290322, -0.12903225806451613]]"
      ]
     },
     "execution_count": 28,
     "metadata": {},
     "output_type": "execute_result"
    }
   ],
   "source": [
    "inverse_matrix([[4, 5], [7, 1]])"
   ]
  },
  {
   "cell_type": "code",
   "execution_count": 29,
   "metadata": {},
   "outputs": [
    {
     "ename": "ValueError",
     "evalue": "The matrix is not invertible.",
     "output_type": "error",
     "traceback": [
      "\u001b[0;31m---------------------------------------------------------------------------\u001b[0m",
      "\u001b[0;31mValueError\u001b[0m                                Traceback (most recent call last)",
      "\u001b[0;32m<ipython-input-29-4eb612768c8c>\u001b[0m in \u001b[0;36m<module>\u001b[0;34m\u001b[0m\n\u001b[0;32m----> 1\u001b[0;31m \u001b[0minverse_matrix\u001b[0m\u001b[0;34m(\u001b[0m\u001b[0;34m[\u001b[0m\u001b[0;34m[\u001b[0m\u001b[0;36m4\u001b[0m\u001b[0;34m,\u001b[0m \u001b[0;36m2\u001b[0m\u001b[0;34m]\u001b[0m\u001b[0;34m,\u001b[0m \u001b[0;34m[\u001b[0m\u001b[0;36m14\u001b[0m\u001b[0;34m,\u001b[0m \u001b[0;36m7\u001b[0m\u001b[0;34m]\u001b[0m\u001b[0;34m]\u001b[0m\u001b[0;34m)\u001b[0m\u001b[0;34m\u001b[0m\u001b[0;34m\u001b[0m\u001b[0m\n\u001b[0m",
      "\u001b[0;32m<ipython-input-25-87c8c80eabb0>\u001b[0m in \u001b[0;36minverse_matrix\u001b[0;34m(matrix)\u001b[0m\n\u001b[1;32m     26\u001b[0m         \u001b[0;31m# If the matrix is 2x2, check that the matrix is invertible\u001b[0m\u001b[0;34m\u001b[0m\u001b[0;34m\u001b[0m\u001b[0;34m\u001b[0m\u001b[0m\n\u001b[1;32m     27\u001b[0m         \u001b[0;32mif\u001b[0m \u001b[0mmatrix\u001b[0m\u001b[0;34m[\u001b[0m\u001b[0;36m0\u001b[0m\u001b[0;34m]\u001b[0m\u001b[0;34m[\u001b[0m\u001b[0;36m0\u001b[0m\u001b[0;34m]\u001b[0m \u001b[0;34m*\u001b[0m \u001b[0mmatrix\u001b[0m\u001b[0;34m[\u001b[0m\u001b[0;36m1\u001b[0m\u001b[0;34m]\u001b[0m\u001b[0;34m[\u001b[0m\u001b[0;36m1\u001b[0m\u001b[0;34m]\u001b[0m \u001b[0;34m==\u001b[0m \u001b[0mmatrix\u001b[0m\u001b[0;34m[\u001b[0m\u001b[0;36m0\u001b[0m\u001b[0;34m]\u001b[0m\u001b[0;34m[\u001b[0m\u001b[0;36m1\u001b[0m\u001b[0;34m]\u001b[0m \u001b[0;34m*\u001b[0m \u001b[0mmatrix\u001b[0m\u001b[0;34m[\u001b[0m\u001b[0;36m1\u001b[0m\u001b[0;34m]\u001b[0m\u001b[0;34m[\u001b[0m\u001b[0;36m0\u001b[0m\u001b[0;34m]\u001b[0m\u001b[0;34m:\u001b[0m\u001b[0;34m\u001b[0m\u001b[0;34m\u001b[0m\u001b[0m\n\u001b[0;32m---> 28\u001b[0;31m             \u001b[0;32mraise\u001b[0m \u001b[0mValueError\u001b[0m\u001b[0;34m(\u001b[0m\u001b[0;34m'The matrix is not invertible.'\u001b[0m\u001b[0;34m)\u001b[0m\u001b[0;34m\u001b[0m\u001b[0;34m\u001b[0m\u001b[0m\n\u001b[0m\u001b[1;32m     29\u001b[0m         \u001b[0;32melse\u001b[0m\u001b[0;34m:\u001b[0m\u001b[0;34m\u001b[0m\u001b[0;34m\u001b[0m\u001b[0m\n\u001b[1;32m     30\u001b[0m             \u001b[0;31m# Calculate the inverse of the square 1x1 or 2x2 matrix.\u001b[0m\u001b[0;34m\u001b[0m\u001b[0;34m\u001b[0m\u001b[0;34m\u001b[0m\u001b[0m\n",
      "\u001b[0;31mValueError\u001b[0m: The matrix is not invertible."
     ]
    }
   ],
   "source": [
    "inverse_matrix([[4, 2], [14, 7]])"
   ]
  },
  {
   "cell_type": "code",
   "execution_count": null,
   "metadata": {},
   "outputs": [],
   "source": []
  }
 ],
 "metadata": {
  "kernelspec": {
   "display_name": "Python 3",
   "language": "python",
   "name": "python3"
  },
  "language_info": {
   "codemirror_mode": {
    "name": "ipython",
    "version": 3
   },
   "file_extension": ".py",
   "mimetype": "text/x-python",
   "name": "python",
   "nbconvert_exporter": "python",
   "pygments_lexer": "ipython3",
   "version": "3.8.5"
  }
 },
 "nbformat": 4,
 "nbformat_minor": 2
}
