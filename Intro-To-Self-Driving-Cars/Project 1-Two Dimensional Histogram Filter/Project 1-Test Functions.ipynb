{
 "cells": [
  {
   "cell_type": "code",
   "execution_count": 32,
   "metadata": {},
   "outputs": [],
   "source": [
    "p = [0.2, 0.2, 0.2, 0.2, 0.2]\n",
    "#p = [0,1,0,0,0]\n",
    "world = ['green', 'red', 'red', 'green', 'green']\n",
    "\n",
    "Z = 'red'\n",
    "measurements = ['red', 'green']\n",
    "motions = [1,1]\n",
    "\n",
    "pHit = 0.6\n",
    "pMiss = 0.2\n",
    "pExact = 0.8\n",
    "pOvershoot = 0.1\n",
    "pUndershoot = 0.1"
   ]
  },
  {
   "cell_type": "code",
   "execution_count": 33,
   "metadata": {},
   "outputs": [],
   "source": [
    "def sense(p, Z):\n",
    "    q=[]\n",
    "    for i in range(len(p)):\n",
    "        hit = (Z == world[i])\n",
    "        print (hit, p[i], hit * pHit + (1-hit) * pMiss)\n",
    "        \n",
    "        q.append(p[i] * (hit * pHit + (1-hit) * pMiss))\n",
    "    sum_q = sum(q)\n",
    "    \n",
    "    for i in range(len(q)):\n",
    "        q[i] = q[i]/sum_q\n",
    "    \n",
    "    return q"
   ]
  },
  {
   "cell_type": "code",
   "execution_count": 34,
   "metadata": {},
   "outputs": [
    {
     "name": "stdout",
     "output_type": "stream",
     "text": [
      "False 0.2 0.2\n",
      "True 0.2 0.6\n",
      "True 0.2 0.6\n",
      "False 0.2 0.2\n",
      "False 0.2 0.2\n",
      "[0.1111111111111111, 0.3333333333333332, 0.3333333333333332, 0.1111111111111111, 0.1111111111111111]\n"
     ]
    }
   ],
   "source": [
    "print (sense(p,Z))"
   ]
  },
  {
   "cell_type": "code",
   "execution_count": 35,
   "metadata": {},
   "outputs": [
    {
     "name": "stdout",
     "output_type": "stream",
     "text": [
      "True 0.2 0.6\n",
      "False 0.2 0.2\n",
      "False 0.2 0.2\n",
      "True 0.2 0.6\n",
      "True 0.2 0.6\n",
      "[0.2727272727272727, 0.09090909090909093, 0.09090909090909093, 0.2727272727272727, 0.2727272727272727]\n"
     ]
    }
   ],
   "source": [
    "Z = 'green'\n",
    "print (sense(p,Z))"
   ]
  },
  {
   "cell_type": "code",
   "execution_count": 6,
   "metadata": {},
   "outputs": [],
   "source": [
    "def move_basic (p, U):\n",
    "    q=[]\n",
    "    for i in range (len(p)):\n",
    "        #print (\"i=\",i,\"(i-U)%len(p)=\",(i-U)%len(p),p[i], p[(i-U)%len(p)])\n",
    "        q.append(p[(i-U)%len(p)])\n",
    "    return q"
   ]
  },
  {
   "cell_type": "code",
   "execution_count": 7,
   "metadata": {},
   "outputs": [],
   "source": [
    "def move (p, U):\n",
    "    q=[]\n",
    "    for i in range (len(p)):\n",
    "        s = pExact * p[(i-U)%len(p)]\n",
    "        #print (\"\\nexact\",s)\n",
    "        \n",
    "        s = s + pOvershoot * p[(i-U-1)%len(p)]\n",
    "        #print (\"overshoot\",s)\n",
    "        \n",
    "        s = s + pUndershoot * p[(i-U+1)%len(p)]\n",
    "        #print (\"undershoot\",s)\n",
    "        q.append(s)\n",
    "    return q"
   ]
  },
  {
   "cell_type": "code",
   "execution_count": 8,
   "metadata": {},
   "outputs": [],
   "source": [
    "p=[0.2, 0.2, 0.2, 0.2, 0.2]"
   ]
  },
  {
   "cell_type": "code",
   "execution_count": 36,
   "metadata": {},
   "outputs": [
    {
     "name": "stdout",
     "output_type": "stream",
     "text": [
      "red\n",
      "False 0.2 0.2\n",
      "True 0.2 0.6\n",
      "True 0.2 0.6\n",
      "False 0.2 0.2\n",
      "False 0.2 0.2\n",
      "[0.1111111111111111, 0.3333333333333332, 0.3333333333333332, 0.1111111111111111, 0.1111111111111111]\n",
      "green\n",
      "True 0.1111111111111111 0.6\n",
      "False 0.3333333333333332 0.2\n",
      "False 0.3333333333333332 0.2\n",
      "True 0.1111111111111111 0.6\n",
      "True 0.1111111111111111 0.6\n",
      "[0.20000000000000004, 0.19999999999999996, 0.19999999999999996, 0.20000000000000004, 0.20000000000000004]\n",
      "[0.20000000000000004, 0.19999999999999996, 0.19999999999999996, 0.20000000000000004, 0.20000000000000004]\n"
     ]
    }
   ],
   "source": [
    "for i in range (len(measurements)):\n",
    "    Z = measurements[i]\n",
    "    print (Z)\n",
    "    p = sense (p,measurements[i])\n",
    "    print (p)\n",
    "\n",
    "print (p)"
   ]
  },
  {
   "cell_type": "code",
   "execution_count": 32,
   "metadata": {},
   "outputs": [
    {
     "name": "stdout",
     "output_type": "stream",
     "text": [
      "[0, 0, 1, 0, 0]\n",
      "[0.0, 0.1, 0.8, 0.1, 0.0]\n"
     ]
    }
   ],
   "source": [
    "p = [0,1,0,0,0]\n",
    "print (move_basic(p,1))\n",
    "print (move(p,1))"
   ]
  },
  {
   "cell_type": "code",
   "execution_count": 33,
   "metadata": {},
   "outputs": [],
   "source": [
    "p = [0,1,0,0,0]"
   ]
  },
  {
   "cell_type": "code",
   "execution_count": 34,
   "metadata": {},
   "outputs": [
    {
     "name": "stdout",
     "output_type": "stream",
     "text": [
      "[0.0, 0.1, 0.8, 0.1, 0.0]\n"
     ]
    }
   ],
   "source": [
    "p = move(p,1)\n",
    "print (p)"
   ]
  },
  {
   "cell_type": "code",
   "execution_count": 35,
   "metadata": {},
   "outputs": [
    {
     "name": "stdout",
     "output_type": "stream",
     "text": [
      "[0.010000000000000002, 0.010000000000000002, 0.16000000000000003, 0.6600000000000001, 0.16000000000000003]\n"
     ]
    }
   ],
   "source": [
    "p = move(p,1)\n",
    "print (p)"
   ]
  },
  {
   "cell_type": "code",
   "execution_count": 36,
   "metadata": {},
   "outputs": [
    {
     "name": "stdout",
     "output_type": "stream",
     "text": [
      "[0.20000000000000365, 0.20000000000000373, 0.20000000000000365, 0.2000000000000035, 0.2000000000000035]\n"
     ]
    }
   ],
   "source": [
    "p = [0,1,0,0,0]\n",
    "for k in range (1000):\n",
    "    p = move(p,1)\n",
    "print (p)"
   ]
  },
  {
   "cell_type": "code",
   "execution_count": 26,
   "metadata": {},
   "outputs": [],
   "source": [
    "p=[0.2, 0.2, 0.2, 0.2, 0.2]"
   ]
  },
  {
   "cell_type": "code",
   "execution_count": 37,
   "metadata": {},
   "outputs": [
    {
     "name": "stdout",
     "output_type": "stream",
     "text": [
      "False 0.20000000000000004 0.2\n",
      "True 0.19999999999999996 0.6\n",
      "True 0.19999999999999996 0.6\n",
      "False 0.20000000000000004 0.2\n",
      "False 0.20000000000000004 0.2\n",
      "[0.11111111111111113, 0.33333333333333326, 0.33333333333333326, 0.11111111111111113, 0.11111111111111113]\n",
      "[0.11111111111111113, 0.13333333333333336, 0.31111111111111106, 0.31111111111111106, 0.13333333333333336]\n",
      "True 0.11111111111111113 0.6\n",
      "False 0.13333333333333336 0.2\n",
      "False 0.31111111111111106 0.2\n",
      "True 0.31111111111111106 0.6\n",
      "True 0.13333333333333336 0.6\n",
      "[0.15789473684210528, 0.06315789473684212, 0.14736842105263157, 0.4421052631578946, 0.18947368421052635]\n",
      "[0.2115789473684211, 0.1515789473684211, 0.08105263157894739, 0.16842105263157892, 0.38736842105263153]\n",
      "[0.2115789473684211, 0.1515789473684211, 0.08105263157894739, 0.16842105263157892, 0.38736842105263153]\n"
     ]
    }
   ],
   "source": [
    "for k in range (len(motions)):\n",
    "    p = sense (p, measurements[k])\n",
    "    print (p)\n",
    "    p = move (p,motions[k])\n",
    "    print (p)\n",
    "print (p)"
   ]
  },
  {
   "cell_type": "code",
   "execution_count": 43,
   "metadata": {},
   "outputs": [
    {
     "name": "stdout",
     "output_type": "stream",
     "text": [
      "[0.08032491601553421, 0.06541970514973888, 0.18431072674403154, 0.4758547446260292, 0.19408990746466626]\n"
     ]
    }
   ],
   "source": [
    "measurements = ['red', 'red']\n",
    "for k in range (len(motions)):\n",
    "    p = sense (p, measurements[k])\n",
    "    p = move (p,motions[k])\n",
    "print (p)"
   ]
  },
  {
   "cell_type": "code",
   "execution_count": null,
   "metadata": {},
   "outputs": [],
   "source": []
  }
 ],
 "metadata": {
  "kernelspec": {
   "display_name": "Python 3",
   "language": "python",
   "name": "python3"
  },
  "language_info": {
   "codemirror_mode": {
    "name": "ipython",
    "version": 3
   },
   "file_extension": ".py",
   "mimetype": "text/x-python",
   "name": "python",
   "nbconvert_exporter": "python",
   "pygments_lexer": "ipython3",
   "version": "3.8.5"
  }
 },
 "nbformat": 4,
 "nbformat_minor": 4
}
